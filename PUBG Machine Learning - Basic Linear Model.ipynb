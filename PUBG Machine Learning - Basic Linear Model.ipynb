{
 "cells": [
  {
   "cell_type": "code",
   "execution_count": 1,
   "metadata": {},
   "outputs": [],
   "source": [
    "# machine learning imports\n",
    "import sklearn as skl\n",
    "import pandas as pd\n",
    "from sklearn.linear_model import LinearRegression # does not auto import\n",
    "from sklearn.metrics import mean_absolute_error # does not auto import\n",
    "import numpy as np"
   ]
  },
  {
   "cell_type": "code",
   "execution_count": 2,
   "metadata": {
    "scrolled": true
   },
   "outputs": [],
   "source": [
    "# import our data\n",
    "pubg_data = pd.read_csv('train_V2.csv')\n",
    "# there is a NaN value we need to drop\n",
    "pubg_data = pubg_data.dropna() "
   ]
  },
  {
   "cell_type": "code",
   "execution_count": 3,
   "metadata": {},
   "outputs": [],
   "source": [
    "# select our features\n",
    "labels = ['boosts', 'damageDealt', 'heals', 'killPlace', 'kills',\n",
    "       'killStreaks', 'longestKill', 'revives', 'rideDistance',  'walkDistance',\n",
    "       'weaponsAcquired']\n",
    "\n",
    "# create input data\n",
    "pubg_x = pubg_data[labels]\n",
    "# clip outliers on a per column basis\n",
    "pubg_x = pubg_x.clip(lower=None, upper= pubg_x.quantile(0.999), axis = 1)\n",
    "\n",
    "# set up our target data\n",
    "pubg_y = pubg_data['winPlacePerc']"
   ]
  },
  {
   "cell_type": "code",
   "execution_count": 4,
   "metadata": {},
   "outputs": [],
   "source": [
    "# now lets scale data\n",
    "scaler = skl.preprocessing.StandardScaler().fit(pubg_x)\n",
    "\n",
    "# lets look at the head again \n",
    "# we need to convert back to dataframe from numpy array though\n",
    "pubg_x = pd.DataFrame(scaler.transform(pubg_x), columns= labels)"
   ]
  },
  {
   "cell_type": "code",
   "execution_count": 5,
   "metadata": {},
   "outputs": [],
   "source": [
    "# partition into train and test\n",
    "pubg_x_train, pubg_x_test, pubg_y_train, pubg_y_test = (\n",
    "    skl.model_selection.train_test_split(pubg_x, pubg_y, random_state = 9))"
   ]
  },
  {
   "cell_type": "code",
   "execution_count": 6,
   "metadata": {},
   "outputs": [],
   "source": [
    "# now lets create the model\n",
    "model = LinearRegression()\n",
    "\n",
    "# and fit it...\n",
    "model.fit(pubg_x_train, pubg_y_train);"
   ]
  },
  {
   "cell_type": "code",
   "execution_count": 7,
   "metadata": {},
   "outputs": [
    {
     "name": "stdout",
     "output_type": "stream",
     "text": [
      "Mean absolute error for training set using linear model 0.0997\n",
      "Mean absolute error for the test set using linear model 0.0997\n"
     ]
    }
   ],
   "source": [
    "# now lets test how well it fits training data and unseen data\n",
    "predict_train = model.predict(pubg_x_train)\n",
    "print('Mean absolute error for training set using linear model %.4f' \n",
    "      % mean_absolute_error(pubg_y_train, predict_train))\n",
    "predict_test = model.predict(pubg_x_test)\n",
    "print('Mean absolute error for the test set using linear model %.4f' \n",
    "      % mean_absolute_error(pubg_y_test, predict_test)) "
   ]
  },
  {
   "cell_type": "code",
   "execution_count": 8,
   "metadata": {},
   "outputs": [
    {
     "name": "stdout",
     "output_type": "stream",
     "text": [
      "Mean absolute error for training set using linear model 0.0977\n",
      "Mean absolute error for the test set using linear model 0.0978\n"
     ]
    }
   ],
   "source": [
    "# now lets test how well it fits training data and unseen data\n",
    "predict_train = model.predict(pubg_x_train)\n",
    "print('Mean absolute error for training set using linear model %.4f' \n",
    "      % mean_absolute_error(pubg_y_train, np.clip(predict_train,0,1))) \n",
    "predict_test = model.predict(pubg_x_test)\n",
    "print('Mean absolute error for the test set using linear model %.4f' \n",
    "      % mean_absolute_error(pubg_y_test, np.clip(predict_test,0,1))) "
   ]
  }
 ],
 "metadata": {
  "kernelspec": {
   "display_name": "tensorflow-gpu",
   "language": "python",
   "name": "tensorflow-gpu"
  },
  "language_info": {
   "codemirror_mode": {
    "name": "ipython",
    "version": 3
   },
   "file_extension": ".py",
   "mimetype": "text/x-python",
   "name": "python",
   "nbconvert_exporter": "python",
   "pygments_lexer": "ipython3",
   "version": "3.5.6"
  }
 },
 "nbformat": 4,
 "nbformat_minor": 2
}
